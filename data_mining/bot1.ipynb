{
 "cells": [
  {
   "cell_type": "code",
   "execution_count": 1,
   "metadata": {},
   "outputs": [],
   "source": [
    "import os\n",
    "import requests\n",
    "import datetime\n",
    "import pandas as pd\n",
    "from bs4 import BeautifulSoup\n",
    "\n",
    "def get_soup(url):\n",
    "    r = requests.get(url)\n",
    "    if r.status_code == 200:\n",
    "        return BeautifulSoup(r.text, 'html5lib')\n",
    "    return None"
   ]
  },
  {
   "cell_type": "code",
   "execution_count": 2,
   "metadata": {},
   "outputs": [],
   "source": [
    "url ='https://www.flipkart.com/search?q=tv&otracker=search&otracker1=search&marketplace=FLIPKART&as-show=on&as=off'\n",
    "soup = get_soup(url)"
   ]
  },
  {
   "cell_type": "code",
   "execution_count": 4,
   "metadata": {},
   "outputs": [
    {
     "name": "stdout",
     "output_type": "stream",
     "text": [
      "target found\n"
     ]
    }
   ],
   "source": [
    "target = soup.find('div', class_ = '_1YokD2 _3Mn1Gg')\n",
    "if target is not None:\n",
    "    print('target found')"
   ]
  },
  {
   "cell_type": "code",
   "execution_count": 5,
   "metadata": {},
   "outputs": [
    {
     "name": "stdout",
     "output_type": "stream",
     "text": [
      "Found 26 items\n"
     ]
    }
   ],
   "source": [
    "items = target.find_all('div', class_ = '_1AtVbE col-12-12')\n",
    "print(f'Found {len(items)} items')"
   ]
  },
  {
   "cell_type": "code",
   "execution_count": 6,
   "metadata": {},
   "outputs": [
    {
     "name": "stdout",
     "output_type": "stream",
     "text": [
      "Mi 5A 80 cm (32 inch) HD Ready LED Smart Android TV with Dolby Audio (2022 Model)\n",
      "₹13,999\n",
      "₹24,999\n",
      "4.3\n",
      "86,316 Ratings & 7,340 Reviews\n",
      "\n",
      "MOTOROLA Envision X 80 cm (32 inch) HD Ready LED Smart Google TV\n",
      "₹11,990\n",
      "₹20,000\n",
      "4.2\n",
      "663 Ratings & 98 Reviews\n",
      "\n",
      "iFFALCON by TCL 80.04 cm (32 inch) HD Ready LED Smart Android TV with Bezel-Less design & 24W Speaker\n",
      "₹9,499\n",
      "₹19,990\n",
      "4.2\n",
      "15,373 Ratings & 2,200 Reviews\n",
      "\n",
      "LG 80 cm (32 inch) HD Ready LED Smart WebOS TV\n",
      "₹13,490\n",
      "₹21,990\n",
      "4.4\n",
      "60,269 Ratings & 5,209 Reviews\n",
      "\n",
      "Mi A series 80 cm (32 inch) HD Ready LED Smart Google TV with 1.5 GB RAM and Dolby Audio (2023 Model)\n",
      "₹14,999\n",
      "₹24,999\n",
      "4.4\n",
      "4,44,467 Ratings & 45,921 Reviews\n",
      "\n",
      "TCL 80.04 cm (32 inch) HD Ready LED Smart Android TV with Bezel Less & Extra Brightness\n",
      "₹11,990\n",
      "₹20,990\n",
      "4.1\n",
      "1,542 Ratings & 165 Reviews\n",
      "\n",
      "Infinix Y1 80 cm (32 inch) HD Ready LED Smart Linux TV with Wall Mount\n",
      "₹8,699\n",
      "₹16,999\n",
      "4.2\n",
      "32,827 Ratings & 3,940 Reviews\n",
      "\n",
      "Panasonic 80 cm (32 inch) HD Ready LED Smart Google TV\n",
      "₹16,990\n",
      "₹20,990\n",
      "4.2\n",
      "2,140 Ratings & 438 Reviews\n",
      "\n",
      "realme 80 cm (32 inch) HD Ready LED Smart Android TV\n",
      "₹11,999\n",
      "₹17,999\n",
      "4.3\n",
      "2,12,435 Ratings & 23,181 Reviews\n",
      "\n",
      "SAMSUNG 80 cm (32 Inch) HD Ready LED Smart Tizen TV with Bezel-free Design\n",
      "₹13,990\n",
      "₹18,900\n",
      "4.4\n",
      "99,285 Ratings & 8,229 Reviews\n",
      "\n",
      "Mi X Series 108 cm (43 inch) Ultra HD (4K) LED Smart Android TV with Dolby Vision and 30W Dolby Audio ...\n",
      "₹28,999\n",
      "₹42,999\n",
      "4.3\n",
      "15,085 Ratings & 1,354 Reviews\n",
      "\n",
      "Panasonic 108 cm (43 inch) Ultra HD (4K) LED Smart Google TV\n",
      "₹31,990\n",
      "₹42,990\n",
      "4.3\n",
      "8,466 Ratings & 1,182 Reviews\n",
      "\n",
      "iFFALCON by TCL U62 108 cm (43 inch) Ultra HD (4K) LED Smart Google TV with Bezel-Less Design and Dolb...\n",
      "₹19,999\n",
      "₹49,990\n",
      "4.2\n",
      "15,373 Ratings & 2,200 Reviews\n",
      "\n",
      "OnePlus Y1S 108 cm (43 inch) Full HD LED Smart Android TV with Android 11 and Bezel-Less Frame\n",
      "₹24,999\n",
      "₹31,999\n",
      "4.3\n",
      "77,851 Ratings & 7,196 Reviews\n",
      "\n",
      "SAMSUNG Crystal 4K iSmart Series 108 cm (43 inch) Ultra HD (4K) LED Smart Tizen TV with Black (2023 Mo...\n",
      "₹30,990\n",
      "₹52,900\n",
      "4.3\n",
      "14,965 Ratings & 1,502 Reviews\n",
      "\n",
      "OnePlus Y1S 80 cm (32 inch) HD Ready LED Smart Android TV with Android 11 and Bezel-Less Frame\n",
      "₹15,999\n",
      "₹21,999\n",
      "4.3\n",
      "77,851 Ratings & 7,196 Reviews\n",
      "\n",
      "Mi A series 108 cm (43 inch) Full HD LED Smart Google TV with Bezel-less Design and Dolby Audio (2023 ...\n",
      "₹24,999\n",
      "₹35,999\n",
      "4.4\n",
      "4,44,467 Ratings & 45,921 Reviews\n",
      "\n",
      "Panasonic 108 cm (43 inch) HD Ready LED Smart Google TV\n",
      "₹27,990\n",
      "₹36,990\n",
      "4.2\n",
      "2,140 Ratings & 438 Reviews\n",
      "\n",
      "LG 80 cm (32 inch) HD Ready LED Smart WebOS TV with Alpha5 Gen5 AI Processor | (Ceramic Black) (2022 M...\n",
      "₹15,990\n",
      "₹23,990\n",
      "4.4\n",
      "2,735 Ratings & 337 Reviews\n",
      "\n",
      "TCL 43P635 108 cm (43 inch) Ultra HD (4K) LED Smart Google TV with Bezel-Less Design and Dolby Audio &...\n",
      "₹24,990\n",
      "₹52,990\n",
      "4.1\n",
      "1,542 Ratings & 165 Reviews\n",
      "\n",
      "Panasonic 164 cm (65 inch) Ultra HD (4K) LED Smart Google TV\n",
      "₹69,990\n",
      "₹94,990\n",
      "4.3\n",
      "8,466 Ratings & 1,182 Reviews\n",
      "\n",
      "Adsun 80 cm (32 inch) HD Ready LED Smart Android Based TV\n",
      "₹7,950\n",
      "₹21,999\n",
      "3.9\n",
      "20,014 Ratings & 2,987 Reviews\n",
      "\n",
      "TCL 80.04 cm (32 inch) Full HD LED Smart Google TV with Bezel Less & Extra Brightness\n",
      "₹13,999\n",
      "₹23,990\n",
      "4.1\n",
      "544 Ratings & 73 Reviews\n",
      "\n",
      "OnePlus Y1S 101 cm (40 inch) Full HD LED Smart Android TV with Android 11 and Bezel-Less Frame\n",
      "₹21,999\n",
      "₹29,999\n",
      "4.3\n",
      "96,487 Ratings & 8,400 Reviews\n",
      "\n",
      "\n",
      "\n"
     ]
    }
   ],
   "source": [
    "for item in items:\n",
    "    title = item.find('div',class_ ='_4rR01T')\n",
    "    sell_price = item.find('div', class_='_30jeq3 _1_WHN1')\n",
    "    orig_price = item.find('div', class_='_3I9_wc _27UcVY')\n",
    "    rating = item.find('div', class_='_3LWZlK')\n",
    "    num_ratings = item.find('span', class_='_2_R_DZ')\n",
    "    if title:\n",
    "        print(title.text.strip())\n",
    "    if sell_price:\n",
    "        print(sell_price.text.strip())\n",
    "    if orig_price:\n",
    "        print(orig_price.text.strip())\n",
    "    if rating:\n",
    "        print(rating.text.strip())\n",
    "    if num_ratings:\n",
    "        print(num_ratings.text.strip())\n",
    "    print()"
   ]
  },
  {
   "cell_type": "code",
   "execution_count": null,
   "metadata": {},
   "outputs": [],
   "source": []
  }
 ],
 "metadata": {
  "kernelspec": {
   "display_name": "Python 3.9.13 ('base')",
   "language": "python",
   "name": "python3"
  },
  "language_info": {
   "codemirror_mode": {
    "name": "ipython",
    "version": 3
   },
   "file_extension": ".py",
   "mimetype": "text/x-python",
   "name": "python",
   "nbconvert_exporter": "python",
   "pygments_lexer": "ipython3",
   "version": "3.10.11"
  },
  "orig_nbformat": 4,
  "vscode": {
   "interpreter": {
    "hash": "203ec5af3e26acf3e3c83a4183d4b4efe59642f60e2721ccf6236536a59ece46"
   }
  }
 },
 "nbformat": 4,
 "nbformat_minor": 2
}
