{
 "cells": [
  {
   "cell_type": "code",
   "execution_count": 1,
   "metadata": {},
   "outputs": [],
   "source": [
    "import os\n",
    "import requests\n",
    "import datetime\n",
    "import pandas as pd\n",
    "from bs4 import BeautifulSoup\n",
    "\n",
    "def get_soup(url):\n",
    "    r = requests.get(url)\n",
    "    if r.status_code == 200:\n",
    "        return BeautifulSoup(r.text, 'html5lib')\n",
    "    return None"
   ]
  },
  {
   "cell_type": "code",
   "execution_count": 2,
   "metadata": {},
   "outputs": [],
   "source": [
    "url ='https://www.flipkart.com/search?q=tv&otracker=search&otracker1=search&marketplace=FLIPKART&as-show=on&as=off'\n",
    "soup = get_soup(url)"
   ]
  },
  {
   "cell_type": "code",
   "execution_count": 3,
   "metadata": {},
   "outputs": [
    {
     "name": "stdout",
     "output_type": "stream",
     "text": [
      "target found\n"
     ]
    }
   ],
   "source": [
    "target = soup.find('div', class_ = '_1YokD2 _3Mn1Gg')\n",
    "if target is not None:\n",
    "    print('target found')"
   ]
  },
  {
   "cell_type": "code",
   "execution_count": 5,
   "metadata": {},
   "outputs": [
    {
     "name": "stdout",
     "output_type": "stream",
     "text": [
      "Found 26 items\n"
     ]
    }
   ],
   "source": [
    "items = target.find_all('div', class_ = '_1AtVbE col-12-12')\n",
    "print(f'Found {len(items)} items')"
   ]
  },
  {
   "cell_type": "code",
   "execution_count": 10,
   "metadata": {},
   "outputs": [
    {
     "name": "stdout",
     "output_type": "stream",
     "text": [
      "KODAK 7XPRO Series 80 cm (32 inch) HD Ready LED Smart Android TV\n",
      "₹8,999\n",
      "₹18,499\n",
      "4.4\n",
      "34,522 Ratings & 7,722 Reviews\n",
      "\n",
      "Blaupunkt 189 cm (75 inch) Ultra HD (4K) LED Smart Android TV with Dolby Atmos & Dolby Vision\n",
      "₹84,999\n",
      "₹1,49,999\n",
      "4.6\n",
      "4,157 Ratings & 1,085 Reviews\n",
      "\n",
      "realme 80 cm (32 inch) HD Ready LED Smart Android TV\n",
      "₹10,999\n",
      "₹17,999\n",
      "4.3\n",
      "2,19,820 Ratings & 25,037 Reviews\n",
      "\n",
      "LG 80 cm (32 inch) HD Ready LED Smart WebOS TV\n",
      "₹12,980\n",
      "₹21,990\n",
      "4.4\n",
      "44,599 Ratings & 3,996 Reviews\n",
      "\n",
      "Mi 5A 80 cm (32 inch) HD Ready LED Smart Android TV with Dolby Audio (2022 Model)\n",
      "₹12,999\n",
      "₹24,999\n",
      "4.4\n",
      "3,11,308 Ratings & 29,604 Reviews\n",
      "\n",
      "Infinix Y1 80 cm (32 inch) HD Ready LED Smart Linux TV\n",
      "₹7,999\n",
      "₹16,999\n",
      "4.2\n",
      "5,556 Ratings & 889 Reviews\n",
      "\n",
      "SAMSUNG 80 cm (32 Inch) HD Ready LED Smart Tizen TV with 2022 Model\n",
      "₹13,499\n",
      "₹18,900\n",
      "4.4\n",
      "62,406 Ratings & 5,541 Reviews\n",
      "\n",
      "KODAK CA Series 139 cm (55 inch) Ultra HD (4K) LED Smart Android TV with Dolby Digital Plus & DTS TruS...\n",
      "₹29,999\n",
      "₹47,999\n",
      "4.5\n",
      "18,680 Ratings & 5,598 Reviews\n",
      "\n",
      "realme NEO 80 cm (32 inch) HD Ready LED Smart Linux TV\n",
      "₹9,999\n",
      "₹21,999\n",
      "4.3\n",
      "30,925 Ratings & 2,718 Reviews\n",
      "\n",
      "realme 100.3 cm (40 inch) Full HD LED Smart Android TV\n",
      "₹16,999\n",
      "₹31,999\n",
      "4.3\n",
      "2,19,820 Ratings & 25,037 Reviews\n",
      "\n",
      "TRUSENSE TS 3210 80 cm (32 inch) Full HD LED Smart Android TV\n",
      "₹10,450\n",
      "₹20,000\n",
      "\n",
      "KODAK CA PRO 126 cm (50 inch) Ultra HD (4K) LED Smart Android TV with Dolby MS12 & Dolby Digital Plus\n",
      "₹26,999\n",
      "₹46,499\n",
      "4.5\n",
      "18,680 Ratings & 5,598 Reviews\n",
      "\n",
      "OnePlus Y1 100 cm (40 inch) Full HD LED Smart Android TV with Dolby Audio\n",
      "₹18,999\n",
      "₹27,999\n",
      "4.3\n",
      "1,24,024 Ratings & 11,420 Reviews\n",
      "\n",
      "Mi 5A 108 cm (43 inch) Full HD LED Smart Android TV with Dolby Audio (2022 Model)\n",
      "₹22,999\n",
      "₹35,999\n",
      "4.4\n",
      "3,11,308 Ratings & 29,604 Reviews\n",
      "\n",
      "realme 108 cm (43 inch) Full HD LED Smart Android TV\n",
      "₹18,999\n",
      "₹35,999\n",
      "4.3\n",
      "2,19,820 Ratings & 25,037 Reviews\n",
      "\n",
      "Thomson 9A Series 80 cm (32 inch) HD Ready LED Smart Android TV\n",
      "₹8,999\n",
      "₹14,499\n",
      "4.4\n",
      "80,103 Ratings & 17,145 Reviews\n",
      "\n",
      "KODAK 7X Pro 98 cm (40 inch) Full HD LED Smart Android TV\n",
      "₹14,999\n",
      "₹20,999\n",
      "4.4\n",
      "34,522 Ratings & 7,722 Reviews\n",
      "\n",
      "Blaupunkt Cybersound 139 cm (55 inch) Ultra HD (4K) LED Smart Android TV with Dolby MS12 & 60W Speaker...\n",
      "₹32,999\n",
      "₹55,999\n",
      "4.6\n",
      "4,157 Ratings & 1,085 Reviews\n",
      "\n",
      "OnePlus Y1S 80 cm (32 inch) HD Ready LED Smart Android TV with Android 11 and Bezel-Less Frame\n",
      "₹13,999\n",
      "₹21,999\n",
      "4.3\n",
      "1,24,024 Ratings & 11,420 Reviews\n",
      "\n",
      "Mi X Series 125 cm (50 inch) Ultra HD (4K) LED Smart Android TV with Dolby Vision & 30W Dolby Audio (2...\n",
      "₹31,999\n",
      "₹44,999\n",
      "4.4\n",
      "1,411 Ratings & 128 Reviews\n",
      "\n",
      "Blaupunkt Cybersound 126 cm (50 inch) Ultra HD (4K) LED Smart Android TV with Dolby MS12 & 60W Speaker...\n",
      "₹27,999\n",
      "₹47,999\n",
      "4.6\n",
      "4,157 Ratings & 1,085 Reviews\n",
      "\n",
      "Blaupunkt Cybersound 108 cm (43 inch) Ultra HD (4K) LED Smart Android TV with Dolby MS12 & 50W Speaker...\n",
      "₹24,999\n",
      "₹41,999\n",
      "4.6\n",
      "4,157 Ratings & 1,085 Reviews\n",
      "\n",
      "LG UQ7500 108 cm (43 inch) Ultra HD (4K) LED Smart WebOS TV 2022 Edition\n",
      "₹28,990\n",
      "₹49,990\n",
      "4.4\n",
      "9,496 Ratings & 1,159 Reviews\n",
      "\n",
      "SAMSUNG Crystal 4K Neo Series 108 cm (43 inch) Ultra HD (4K) LED Smart Tizen TV with (Black) (2022 Mod...\n",
      "₹30,970\n",
      "₹47,900\n",
      "4.4\n",
      "11,243 Ratings & 1,261 Reviews\n",
      "\n",
      "\n",
      "\n"
     ]
    }
   ],
   "source": [
    "for item in items:\n",
    "    title = item.find('div',class_ ='_4rR01T')\n",
    "    sell_price = item.find('div', class_='_30jeq3 _1_WHN1')\n",
    "    orig_price = item.find('div', class_='_3I9_wc _27UcVY')\n",
    "    rating = item.find('div', class_='_3LWZlK')\n",
    "    num_ratings = item.find('span', class_='_2_R_DZ')\n",
    "    if title:\n",
    "        print(title.text.strip())\n",
    "    if sell_price:\n",
    "        print(sell_price.text.strip())\n",
    "    if orig_price:\n",
    "        print(orig_price.text.strip())\n",
    "    if rating:\n",
    "        print(rating.text.strip())\n",
    "    if num_ratings:\n",
    "        print(num_ratings.text.strip())\n",
    "    print()"
   ]
  },
  {
   "cell_type": "code",
   "execution_count": null,
   "metadata": {},
   "outputs": [],
   "source": []
  }
 ],
 "metadata": {
  "kernelspec": {
   "display_name": "Python 3.9.13 ('base')",
   "language": "python",
   "name": "python3"
  },
  "language_info": {
   "codemirror_mode": {
    "name": "ipython",
    "version": 3
   },
   "file_extension": ".py",
   "mimetype": "text/x-python",
   "name": "python",
   "nbconvert_exporter": "python",
   "pygments_lexer": "ipython3",
   "version": "3.9.13"
  },
  "orig_nbformat": 4,
  "vscode": {
   "interpreter": {
    "hash": "203ec5af3e26acf3e3c83a4183d4b4efe59642f60e2721ccf6236536a59ece46"
   }
  }
 },
 "nbformat": 4,
 "nbformat_minor": 2
}
